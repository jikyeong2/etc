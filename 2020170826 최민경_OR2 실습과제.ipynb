{
 "cells": [
  {
   "cell_type": "code",
   "execution_count": 563,
   "id": "62096d2b",
   "metadata": {},
   "outputs": [],
   "source": [
    "import numpy as np"
   ]
  },
  {
   "cell_type": "markdown",
   "id": "1475ec38",
   "metadata": {},
   "source": [
    "## For the 1st foot ball team"
   ]
  },
  {
   "cell_type": "code",
   "execution_count": 564,
   "id": "f5998ac9",
   "metadata": {},
   "outputs": [],
   "source": [
    "#number of states\n",
    "n = 3\n",
    "\n",
    "#Define the transition probability matrix\n",
    "P = np.matrix(\n",
    "    [\n",
    "        [1/20, 14/20, 5/20], [6/23, 5/23,12/23], [12/16, 4/16, 0/16]\n",
    "    ]\n",
    ")\n",
    "\n",
    "#Define initial probability distribution vector\n",
    "s1 = np.matrix([1,0,0])"
   ]
  },
  {
   "cell_type": "code",
   "execution_count": 565,
   "id": "97429d6a",
   "metadata": {},
   "outputs": [
    {
     "data": {
      "text/plain": [
       "matrix([[0.12 , 0.655, 0.225]])"
      ]
     },
     "execution_count": 565,
     "metadata": {},
     "output_type": "execute_result"
    }
   ],
   "source": [
    "s * P"
   ]
  },
  {
   "cell_type": "markdown",
   "id": "4a0b72eb",
   "metadata": {},
   "source": [
    "Probability of 1st team staying Win is 0.5 in 1 month"
   ]
  },
  {
   "cell_type": "code",
   "execution_count": 566,
   "id": "8ddff971",
   "metadata": {},
   "outputs": [
    {
     "data": {
      "text/plain": [
       "matrix([[0.34454302, 0.37061817, 0.28483881]])"
      ]
     },
     "execution_count": 566,
     "metadata": {},
     "output_type": "execute_result"
    }
   ],
   "source": [
    "s * (P**5)"
   ]
  },
  {
   "cell_type": "markdown",
   "id": "60ab31c7",
   "metadata": {},
   "source": [
    "Probability of 1st team staying Win is 0.34853354 in 5 month"
   ]
  },
  {
   "cell_type": "code",
   "execution_count": 567,
   "id": "54a015ae",
   "metadata": {},
   "outputs": [
    {
     "data": {
      "text/plain": [
       "matrix([[0.33012391, 0.3859602 , 0.28391589]])"
      ]
     },
     "execution_count": 567,
     "metadata": {},
     "output_type": "execute_result"
    }
   ],
   "source": [
    "s * (P**15)"
   ]
  },
  {
   "cell_type": "code",
   "execution_count": 568,
   "id": "07f8677c",
   "metadata": {},
   "outputs": [
    {
     "data": {
      "text/plain": [
       "matrix([[0.3301236 , 0.38596964, 0.28390677]])"
      ]
     },
     "execution_count": 568,
     "metadata": {},
     "output_type": "execute_result"
    }
   ],
   "source": [
    "s * (P**20)"
   ]
  },
  {
   "cell_type": "code",
   "execution_count": 569,
   "id": "c5eeb2cd",
   "metadata": {},
   "outputs": [],
   "source": [
    "#Get the data\n",
    "plot_data = []\n",
    "for step in range(20):\n",
    "    result = s1 * (P**step)\n",
    "    plot_data.append(np.array(result).flatten())\n",
    "\n",
    "#convert the data format\n",
    "plot_data = np.array(plot_data)"
   ]
  },
  {
   "cell_type": "code",
   "execution_count": 570,
   "id": "c7639a63",
   "metadata": {},
   "outputs": [
    {
     "data": {
      "text/plain": [
       "(0.0, 1.0)"
      ]
     },
     "execution_count": 570,
     "metadata": {},
     "output_type": "execute_result"
    },
    {
     "data": {
      "image/png": "[encoded data removed]",
      "text/plain": [
       "<Figure size 640x480 with 1 Axes>"
      ]
     },
     "metadata": {},
     "output_type": "display_data"
    }
   ],
   "source": [
    "import matplotlib.pyplot as plt\n",
    "\n",
    "#Create the plot\n",
    "for i in range(n):\n",
    "    plt.plot(plot_data[:,i],'o',label = \"S%i\" %(i+1))\n",
    "    plt.title(\"1st team\")\n",
    "\n",
    "plt. legend() \n",
    "plt. ylim(0,1)"
   ]
  },
  {
   "cell_type": "code",
   "execution_count": 571,
   "id": "8d6252c1",
   "metadata": {},
   "outputs": [
    {
     "data": {
      "text/plain": [
       "matrix([[0.3301238 ],\n",
       "        [0.38596974],\n",
       "        [0.28390646]])"
      ]
     },
     "execution_count": 571,
     "metadata": {},
     "output_type": "execute_result"
    }
   ],
   "source": [
    "import pandas as pd\n",
    "from random import random\n",
    "\n",
    "A = np.append(np.transpose(P)-np.identity(n),[[1,1,1]], axis=0) #you should append a unit vector of size equal to n. If n=3, you should append [[1,1,1]] instead of [[1,1]] \n",
    "\n",
    "#axis = the axis along which values are appended\n",
    "b = np.transpose(np.array([[0,0,0,1]])) \n",
    "\n",
    "#you should input a vector with number of zeros equal to n. If n=3, you should input [0,0,0,1] instead of [0,0,1] \n",
    "np.linalg.solve(np.transpose(A).dot(A), np.transpose(A).dot(b))"
   ]
  },
  {
   "cell_type": "markdown",
   "id": "cf9b230d",
   "metadata": {},
   "source": [
    "## For the 2nd team"
   ]
  },
  {
   "cell_type": "code",
   "execution_count": 572,
   "id": "70ffbbb8",
   "metadata": {},
   "outputs": [],
   "source": [
    "#number of states\n",
    "n = 3\n",
    "\n",
    "#Define the transition probability matrix\n",
    "P = np.matrix(\n",
    "    [\n",
    "        [6/25, 11/25, 8/25], [6/19, 1/19, 12/19], [8/15, 7/15, 0/15]\n",
    "    ]\n",
    ")\n",
    "\n",
    "#Define initial probability distribution vector\n",
    "s = np.matrix([0,0,1])"
   ]
  },
  {
   "cell_type": "code",
   "execution_count": 573,
   "id": "d5d95bd0",
   "metadata": {},
   "outputs": [
    {
     "data": {
      "text/plain": [
       "matrix([[0.53333333, 0.46666667, 0.        ]])"
      ]
     },
     "execution_count": 573,
     "metadata": {},
     "output_type": "execute_result"
    }
   ],
   "source": [
    "s * P"
   ]
  },
  {
   "cell_type": "code",
   "execution_count": 574,
   "id": "71fccd99",
   "metadata": {},
   "outputs": [
    {
     "data": {
      "text/plain": [
       "matrix([[0.36592057, 0.32908356, 0.30499587]])"
      ]
     },
     "execution_count": 574,
     "metadata": {},
     "output_type": "execute_result"
    }
   ],
   "source": [
    "s * (P**5)"
   ]
  },
  {
   "cell_type": "code",
   "execution_count": 575,
   "id": "36315aca",
   "metadata": {},
   "outputs": [
    {
     "data": {
      "text/plain": [
       "matrix([[0.357998  , 0.32327555, 0.31872644]])"
      ]
     },
     "execution_count": 575,
     "metadata": {},
     "output_type": "execute_result"
    }
   ],
   "source": [
    "s * (P**15)"
   ]
  },
  {
   "cell_type": "code",
   "execution_count": 576,
   "id": "75c09327",
   "metadata": {},
   "outputs": [
    {
     "data": {
      "text/plain": [
       "matrix([[0.35799517, 0.3232735 , 0.31873132]])"
      ]
     },
     "execution_count": 576,
     "metadata": {},
     "output_type": "execute_result"
    }
   ],
   "source": [
    "s * (P**20)"
   ]
  },
  {
   "cell_type": "code",
   "execution_count": 577,
   "id": "4f012db4",
   "metadata": {},
   "outputs": [
    {
     "data": {
      "text/plain": [
       "(0.0, 1.0)"
      ]
     },
     "execution_count": 577,
     "metadata": {},
     "output_type": "execute_result"
    },
    {
     "data": {
      "image/png": "[encoded data removed]",
      "text/plain": [
       "<Figure size 640x480 with 1 Axes>"
      ]
     },
     "metadata": {},
     "output_type": "display_data"
    }
   ],
   "source": [
    "#Get the data\n",
    "plot_data = []\n",
    "for step in range(20):\n",
    "    result = s * (P**step)\n",
    "    plot_data.append(np.array(result).flatten())\n",
    "\n",
    "#convert the data format\n",
    "plot_data = np.array(plot_data)\n",
    "\n",
    "import matplotlib.pyplot as plt\n",
    "\n",
    "#Create the plot\n",
    "for i in range(n):\n",
    "    plt.plot(plot_data[:,i],'o',label = \"S%i\" %(i+1))\n",
    "    plt.title(\"2nd team\")\n",
    "\n",
    "plt. legend() \n",
    "plt. ylim(0,1)"
   ]
  },
  {
   "cell_type": "markdown",
   "id": "42a12492",
   "metadata": {},
   "source": [
    "## For the 3rd team"
   ]
  },
  {
   "cell_type": "code",
   "execution_count": 578,
   "id": "4e47f589",
   "metadata": {},
   "outputs": [],
   "source": [
    "#number of states\n",
    "n = 3\n",
    "\n",
    "#Define the transition probability matrix\n",
    "P = np.matrix(\n",
    "    [\n",
    "        [0/20, 14/20, 6/20], [5/21, 4/21, 12/21], [13/18, 5/18, 0/18]\n",
    "    ]\n",
    ")\n",
    "\n",
    "#Define initial probability distribution vector\n",
    "s = np.matrix([1,0,0])"
   ]
  },
  {
   "cell_type": "code",
   "execution_count": 579,
   "id": "b81d6e29",
   "metadata": {},
   "outputs": [
    {
     "data": {
      "text/plain": [
       "matrix([[0. , 0.7, 0.3]])"
      ]
     },
     "execution_count": 579,
     "metadata": {},
     "output_type": "execute_result"
    }
   ],
   "source": [
    "s * P"
   ]
  },
  {
   "cell_type": "code",
   "execution_count": 580,
   "id": "03fc6fb8",
   "metadata": {},
   "outputs": [
    {
     "data": {
      "text/plain": [
       "matrix([[0.33901828, 0.35929985, 0.30168186]])"
      ]
     },
     "execution_count": 580,
     "metadata": {},
     "output_type": "execute_result"
    }
   ],
   "source": [
    "s * (P**5)"
   ]
  },
  {
   "cell_type": "code",
   "execution_count": 581,
   "id": "1e122b03",
   "metadata": {},
   "outputs": [
    {
     "data": {
      "text/plain": [
       "matrix([[0.31336687, 0.37711797, 0.30951516]])"
      ]
     },
     "execution_count": 581,
     "metadata": {},
     "output_type": "execute_result"
    }
   ],
   "source": [
    "s * (P**15)"
   ]
  },
  {
   "cell_type": "code",
   "execution_count": 582,
   "id": "a2feaaf8",
   "metadata": {},
   "outputs": [
    {
     "data": {
      "text/plain": [
       "matrix([[0.31333687, 0.3771482 , 0.30951494]])"
      ]
     },
     "execution_count": 582,
     "metadata": {},
     "output_type": "execute_result"
    }
   ],
   "source": [
    "s * (P**20)"
   ]
  },
  {
   "cell_type": "code",
   "execution_count": 583,
   "id": "cbdca938",
   "metadata": {},
   "outputs": [
    {
     "data": {
      "text/plain": [
       "(0.0, 1.0)"
      ]
     },
     "execution_count": 583,
     "metadata": {},
     "output_type": "execute_result"
    },
    {
     "data": {
      "image/png": "[encoded data removed]",
      "text/plain": [
       "<Figure size 640x480 with 1 Axes>"
      ]
     },
     "metadata": {},
     "output_type": "display_data"
    }
   ],
   "source": [
    "#Get the data\n",
    "plot_data = []\n",
    "for step in range(20):\n",
    "    result = s * (P**step)\n",
    "    plot_data.append(np.array(result).flatten())\n",
    "\n",
    "#convert the data format\n",
    "plot_data = np.array(plot_data)\n",
    "\n",
    "import matplotlib.pyplot as plt\n",
    "\n",
    "#Create the plot\n",
    "for i in range(n):\n",
    "    plt.plot(plot_data[:,i],'o',label = \"S%i\" %(i+1))\n",
    "    plt.title(\"3rd team\")\n",
    "\n",
    "plt. legend() \n",
    "plt. ylim(0,1)"
   ]
  },
  {
   "cell_type": "markdown",
   "id": "8f00d2ea",
   "metadata": {},
   "source": [
    "## For the 4th team"
   ]
  },
  {
   "cell_type": "code",
   "execution_count": 584,
   "id": "dace9e00",
   "metadata": {},
   "outputs": [],
   "source": [
    "#number of states\n",
    "n = 3\n",
    "\n",
    "#Define the transition probability matrix\n",
    "P = np.matrix(\n",
    "    [\n",
    "        [10/19, 5/19, 4/19], [6/19, 10/19, 3/19], [3/21, 5/21, 13/21]\n",
    "    ]\n",
    ")\n",
    "\n",
    "#Define initial probability distribution vector\n",
    "s = np.matrix([1,0,0])"
   ]
  },
  {
   "cell_type": "code",
   "execution_count": 585,
   "id": "394c2e23",
   "metadata": {},
   "outputs": [
    {
     "data": {
      "text/plain": [
       "matrix([[0.52631579, 0.26315789, 0.21052632]])"
      ]
     },
     "execution_count": 585,
     "metadata": {},
     "output_type": "execute_result"
    }
   ],
   "source": [
    "s * P"
   ]
  },
  {
   "cell_type": "code",
   "execution_count": 586,
   "id": "6f877d16",
   "metadata": {},
   "outputs": [
    {
     "data": {
      "text/plain": [
       "matrix([[0.33139227, 0.34608214, 0.3225256 ]])"
      ]
     },
     "execution_count": 586,
     "metadata": {},
     "output_type": "execute_result"
    }
   ],
   "source": [
    "s * (P**5)"
   ]
  },
  {
   "cell_type": "code",
   "execution_count": 587,
   "id": "b32b4d70",
   "metadata": {},
   "outputs": [
    {
     "data": {
      "text/plain": [
       "matrix([[0.32877993, 0.34608385, 0.32513622]])"
      ]
     },
     "execution_count": 587,
     "metadata": {},
     "output_type": "execute_result"
    }
   ],
   "source": [
    "s * (P**15)"
   ]
  },
  {
   "cell_type": "code",
   "execution_count": 588,
   "id": "0f993a51",
   "metadata": {},
   "outputs": [
    {
     "data": {
      "text/plain": [
       "matrix([[0.3287796 , 0.34608379, 0.32513661]])"
      ]
     },
     "execution_count": 588,
     "metadata": {},
     "output_type": "execute_result"
    }
   ],
   "source": [
    "s * (P**20)"
   ]
  },
  {
   "cell_type": "code",
   "execution_count": 589,
   "id": "b197434b",
   "metadata": {},
   "outputs": [
    {
     "data": {
      "text/plain": [
       "(0.0, 1.0)"
      ]
     },
     "execution_count": 589,
     "metadata": {},
     "output_type": "execute_result"
    },
    {
     "data": {
      "image/png": "[encoded data removed]",
      "text/plain": [
       "<Figure size 640x480 with 1 Axes>"
      ]
     },
     "metadata": {},
     "output_type": "display_data"
    }
   ],
   "source": [
    "#Get the data\n",
    "plot_data = []\n",
    "for step in range(20):\n",
    "    result = s * (P**step)\n",
    "    plot_data.append(np.array(result).flatten())\n",
    "\n",
    "#convert the data format\n",
    "plot_data = np.array(plot_data)\n",
    "\n",
    "import matplotlib.pyplot as plt\n",
    "\n",
    "#Create the plot\n",
    "for i in range(n):\n",
    "    plt.plot(plot_data[:,i],'o',label = \"S%i\" %(i+1))\n",
    "    plt.title(\"4th team\")\n",
    "\n",
    "plt. legend() \n",
    "plt. ylim(0,1)"
   ]
  },
  {
   "cell_type": "markdown",
   "id": "7fc60ca6",
   "metadata": {},
   "source": [
    "## For the 5th team"
   ]
  },
  {
   "cell_type": "code",
   "execution_count": 590,
   "id": "c1c41d97",
   "metadata": {},
   "outputs": [],
   "source": [
    "#number of states\n",
    "n = 3\n",
    "\n",
    "#Define the transition probability matrix\n",
    "P = np.matrix(\n",
    "    [\n",
    "        [14/27, 8/27, 5/27], [5/20, 10/20,5/20], [7/12, 2/12, 3/12]\n",
    "    ]\n",
    ")\n",
    "\n",
    "#Define initial probability distribution vector\n",
    "s = np.matrix([1,0,0])"
   ]
  },
  {
   "cell_type": "code",
   "execution_count": 591,
   "id": "2b9e8115",
   "metadata": {},
   "outputs": [
    {
     "data": {
      "text/plain": [
       "matrix([[0.51851852, 0.2962963 , 0.18518519]])"
      ]
     },
     "execution_count": 591,
     "metadata": {},
     "output_type": "execute_result"
    }
   ],
   "source": [
    "s * P"
   ]
  },
  {
   "cell_type": "code",
   "execution_count": 592,
   "id": "7c6bbc58",
   "metadata": {},
   "outputs": [
    {
     "data": {
      "text/plain": [
       "matrix([[0.44260483, 0.33608244, 0.22131273]])"
      ]
     },
     "execution_count": 592,
     "metadata": {},
     "output_type": "execute_result"
    }
   ],
   "source": [
    "s * (P**5)"
   ]
  },
  {
   "cell_type": "code",
   "execution_count": 593,
   "id": "b9f78c39",
   "metadata": {},
   "outputs": [
    {
     "data": {
      "text/plain": [
       "matrix([[0.44262295, 0.33606557, 0.22131148]])"
      ]
     },
     "execution_count": 593,
     "metadata": {},
     "output_type": "execute_result"
    }
   ],
   "source": [
    "s * (P**15)"
   ]
  },
  {
   "cell_type": "code",
   "execution_count": 594,
   "id": "77b75b64",
   "metadata": {},
   "outputs": [
    {
     "data": {
      "text/plain": [
       "matrix([[0.44262295, 0.33606557, 0.22131148]])"
      ]
     },
     "execution_count": 594,
     "metadata": {},
     "output_type": "execute_result"
    }
   ],
   "source": [
    "s * (P**20)"
   ]
  },
  {
   "cell_type": "code",
   "execution_count": 595,
   "id": "cf0027e4",
   "metadata": {},
   "outputs": [],
   "source": [
    "#Get the data\n",
    "plot_data = []\n",
    "for step in range(20):\n",
    "    result = s * (P**step)\n",
    "    plot_data.append(np.array(result).flatten())\n",
    "\n",
    "#convert the data format\n",
    "plot_data = np.array(plot_data)"
   ]
  },
  {
   "cell_type": "code",
   "execution_count": 596,
   "id": "515eb3e1",
   "metadata": {},
   "outputs": [
    {
     "data": {
      "text/plain": [
       "(0.0, 1.0)"
      ]
     },
     "execution_count": 596,
     "metadata": {},
     "output_type": "execute_result"
    },
    {
     "data": {
      "image/png": "[encoded data removed]",
      "text/plain": [
       "<Figure size 640x480 with 1 Axes>"
      ]
     },
     "metadata": {},
     "output_type": "display_data"
    }
   ],
   "source": [
    "import matplotlib.pyplot as plt\n",
    "\n",
    "#Create the plot\n",
    "for i in range(n):\n",
    "    plt.plot(plot_data[:,i],'o',label = \"S%i\" %(i+1))\n",
    "    plt.title(\"5th team\")\n",
    "\n",
    "plt. legend() \n",
    "plt. ylim(0,1)"
   ]
  },
  {
   "cell_type": "markdown",
   "id": "32523c04",
   "metadata": {},
   "source": [
    "## Now we can use 10 teams game data to recalculate the transition probabilities "
   ]
  },
  {
   "cell_type": "code",
   "execution_count": 606,
   "id": "720cc847",
   "metadata": {},
   "outputs": [],
   "source": [
    "#number of states\n",
    "n = 3\n",
    "\n",
    "#Define the transition probability matrix\n",
    "P = np.matrix(\n",
    "    [\n",
    "        [87/199, 76/199, 36/199], [53/217, 98/217,66/217], [54/173, 48/173, 72/173]\n",
    "    ]\n",
    ")\n",
    "\n",
    "#Define initial probability distribution vector\n",
    "s = np.matrix([9/10,0,1/10])"
   ]
  },
  {
   "cell_type": "code",
   "execution_count": 607,
   "id": "f5f504bb",
   "metadata": {},
   "outputs": [
    {
     "data": {
      "text/plain": [
       "matrix([[0.42468121, 0.37146426, 0.20443257]])"
      ]
     },
     "execution_count": 607,
     "metadata": {},
     "output_type": "execute_result"
    }
   ],
   "source": [
    "s * P"
   ]
  },
  {
   "cell_type": "code",
   "execution_count": 608,
   "id": "f6f34798",
   "metadata": {},
   "outputs": [
    {
     "data": {
      "text/plain": [
       "matrix([[0.32904859, 0.37918307, 0.29853358]])"
      ]
     },
     "execution_count": 608,
     "metadata": {},
     "output_type": "execute_result"
    }
   ],
   "source": [
    "s * (P**5)"
   ]
  },
  {
   "cell_type": "code",
   "execution_count": 609,
   "id": "3dd386ac",
   "metadata": {},
   "outputs": [
    {
     "data": {
      "text/plain": [
       "matrix([[0.33478575, 0.38562707, 0.30374523]])"
      ]
     },
     "execution_count": 609,
     "metadata": {},
     "output_type": "execute_result"
    }
   ],
   "source": [
    "s * (P**15)"
   ]
  },
  {
   "cell_type": "code",
   "execution_count": 610,
   "id": "68eef187",
   "metadata": {},
   "outputs": [
    {
     "data": {
      "text/plain": [
       "matrix([[0.33766528, 0.3889439 , 0.30635778]])"
      ]
     },
     "execution_count": 610,
     "metadata": {},
     "output_type": "execute_result"
    }
   ],
   "source": [
    "s * (P**20)"
   ]
  },
  {
   "cell_type": "code",
   "execution_count": 611,
   "id": "b76c7708",
   "metadata": {},
   "outputs": [],
   "source": [
    "#Get the data\n",
    "plot_data = []\n",
    "for step in range(20):\n",
    "    result = s * (P**step)\n",
    "    plot_data.append(np.array(result).flatten())\n",
    "    \n",
    "#convert the data format\n",
    "plot_data = np.array(plot_data)"
   ]
  },
  {
   "cell_type": "code",
   "execution_count": 612,
   "id": "b14c79c7",
   "metadata": {},
   "outputs": [
    {
     "data": {
      "text/plain": [
       "(0.0, 1.0)"
      ]
     },
     "execution_count": 612,
     "metadata": {},
     "output_type": "execute_result"
    },
    {
     "data": {
      "image/png": "[encoded data removed]",
      "text/plain": [
       "<Figure size 640x480 with 1 Axes>"
      ]
     },
     "metadata": {},
     "output_type": "display_data"
    }
   ],
   "source": [
    "import matplotlib.pyplot as plt\n",
    "\n",
    "#Create the plot\n",
    "for i in range(n):\n",
    "    plt.plot(plot_data[:,i],'o',label = \"S%i\" %(i+1))\n",
    "    plt.title(\"all 10 teams\")\n",
    "\n",
    "plt. legend() \n",
    "plt. ylim(0,1)"
   ]
  },
  {
   "cell_type": "code",
   "execution_count": 613,
   "id": "301517da",
   "metadata": {},
   "outputs": [
    {
     "data": {
      "text/plain": [
       "matrix([[0.32687089],\n",
       "        [0.37661933],\n",
       "        [0.2965088 ]])"
      ]
     },
     "execution_count": 613,
     "metadata": {},
     "output_type": "execute_result"
    }
   ],
   "source": [
    "import pandas as pd\n",
    "from random import random\n",
    "\n",
    "A = np.append(np.transpose(P)-np.identity(n),[[1,1,1]], axis=0) #you should append a unit vector of size equal to n. If n=3, you should append [[1,1,1]] instead of [[1,1]] \n",
    "\n",
    "#axis = the axis along which values are appended\n",
    "b = np.transpose(np.array([[0,0,0,1]])) \n",
    "\n",
    "#you should input a vector with number of zeros equal to n. If n=3, you should input [0,0,0,1] instead of [0,0,1] \n",
    "np.linalg.solve(np.transpose(A).dot(A), np.transpose(A).dot(b))"
   ]
  }
 ],
 "metadata": {
  "kernelspec": {
   "display_name": "Python 3 (ipykernel)",
   "language": "python",
   "name": "python3"
  },
  "language_info": {
   "codemirror_mode": {
    "name": "ipython",
    "version": 3
   },
   "file_extension": ".py",
   "mimetype": "text/x-python",
   "name": "python",
   "nbconvert_exporter": "python",
   "pygments_lexer": "ipython3",
   "version": "3.10.9"
  }
 },
 "nbformat": 4,
 "nbformat_minor": 5
}
